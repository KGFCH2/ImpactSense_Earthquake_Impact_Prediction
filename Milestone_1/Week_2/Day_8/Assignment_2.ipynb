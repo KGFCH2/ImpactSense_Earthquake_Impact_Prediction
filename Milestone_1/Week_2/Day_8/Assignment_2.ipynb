{
 "cells": [
  {
   "cell_type": "markdown",
   "id": "f3e1277a",
   "metadata": {},
   "source": [
    "# Practice"
   ]
  },
  {
   "cell_type": "markdown",
   "id": "05a3a49b",
   "metadata": {},
   "source": [
    "### Dataset for practice"
   ]
  },
  {
   "cell_type": "code",
   "execution_count": 1,
   "id": "83092f64",
   "metadata": {},
   "outputs": [
    {
     "name": "stderr",
     "output_type": "stream",
     "text": [
      "C:\\Users\\babin\\AppData\\Local\\Temp\\ipykernel_4704\\3058238868.py:30: FutureWarning: Setting an item of incompatible dtype is deprecated and will raise an error in a future version of pandas. Value '['31.40565600060867cm' '23.723443878559706cm' '48.6944754257072cm'\n",
      " '47.7445897977863cm' '12.199264419087633cm' '28.255294989080216cm'\n",
      " '49.46319556401813cm' '24.62082473109778cm' '14.069842039264948cm'\n",
      " '30.047591231707173cm' '39.596908878071915cm' '47.903273405497885cm'\n",
      " '18.383678364591226cm' '20.573119172482315cm' '26.918929348570554cm'\n",
      " '49.60956000856316cm' '42.872544601068384cm' '47.28354972175643cm' nan\n",
      " nan '36.95711914375434cm' nan '25.124837252276944cm'\n",
      " '41.69467488795425cm' '28.67398840853555cm' '31.546329651552767cm'\n",
      " '14.629781437963878cm' '10.509502547356245cm' '18.213990989134608cm'\n",
      " '24.690622519316705cm' '23.881006122675878cm' '16.30134384410546cm' nan\n",
      " '29.66207244015815cm' nan '45.91010976816148cm' nan\n",
      " '31.599083317303908cm' '25.60501244185592cm' '43.06120649429532cm' nan\n",
      " '12.847775069640711cm' '12.664116985961948cm' '47.658679896221cm'\n",
      " '33.2449203552472cm' '39.08764020242252cm' '28.33330050691903cm'\n",
      " '22.962576174780793cm' '27.894375469792145cm' '32.038131009330215cm'\n",
      " '14.575393291450958cm' nan nan '11.712756967808463cm' nan\n",
      " '43.763098510017656cm' nan '30.811616852539903cm' '37.395658619063596cm'\n",
      " '28.1338454756111cm' '27.96849795184873cm' '10.60064593668383cm'\n",
      " '24.62269124743047cm' nan '35.59967475048515cm' '10.62981749252967cm'\n",
      " '29.56236762958236cm' '24.02157279243951cm' '20.724977212451382cm'\n",
      " '45.97566419756147cm' '39.53174948578872cm' '40.18091625619654cm'\n",
      " '31.792529976304664cm' '45.01839317252149cm' '38.4030089783188cm']' has dtype incompatible with float64, please explicitly cast to a compatible dtype first.\n",
      "  df_untidy.loc[df_untidy.sample(frac=0.15, random_state=1).index, 'Height_cm'] = \\\n",
      "C:\\Users\\babin\\AppData\\Local\\Temp\\ipykernel_4704\\3058238868.py:33: FutureWarning: Setting an item of incompatible dtype is deprecated and will raise an error in a future version of pandas. Value '['Rating: 3.0' 'Rating: 5.0' 'Rating: 2.0' 'Rating: 3.0' 'Rating: 1.0' nan\n",
      " 'Rating: 5.0' 'Rating: 3.0' 'Rating: 2.0' 'Rating: 2.0' 'Rating: 4.0'\n",
      " 'Rating: 3.0' 'Rating: 1.0' 'Rating: 3.0' nan 'Rating: 1.0' 'Rating: 1.0'\n",
      " 'Rating: 2.0' 'Rating: 2.0' 'Rating: 4.0' 'Rating: 5.0' 'Rating: 4.0'\n",
      " 'Rating: 4.0' 'Rating: 4.0' 'Rating: 3.0' 'Rating: 5.0' 'Rating: 2.0' nan\n",
      " 'Rating: 3.0' 'Rating: 2.0' 'Rating: 3.0' 'Rating: 4.0' nan 'Rating: 4.0'\n",
      " 'Rating: 1.0' 'Rating: 5.0' nan 'Rating: 3.0' 'Rating: 3.0' 'Rating: 3.0'\n",
      " 'Rating: 4.0' 'Rating: 2.0' 'Rating: 1.0' 'Rating: 4.0' nan 'Rating: 5.0'\n",
      " 'Rating: 4.0' 'Rating: 1.0' 'Rating: 4.0' 'Rating: 3.0' 'Rating: 2.0'\n",
      " 'Rating: 5.0' 'Rating: 3.0' 'Rating: 3.0' 'Rating: 2.0' 'Rating: 3.0' nan\n",
      " 'Rating: 1.0' 'Rating: 5.0' 'Rating: 2.0' 'Rating: 1.0' 'Rating: 2.0' nan\n",
      " 'Rating: 4.0' 'Rating: 4.0' 'Rating: 1.0' 'Rating: 1.0' 'Rating: 4.0'\n",
      " 'Rating: 3.0' 'Rating: 5.0' 'Rating: 1.0' nan nan nan 'Rating: 5.0']' has dtype incompatible with float64, please explicitly cast to a compatible dtype first.\n",
      "  df_untidy.loc[df_untidy.sample(frac=0.15, random_state=2).index, 'Rating'] = \\\n"
     ]
    },
    {
     "data": {
      "text/html": [
       "<div>\n",
       "<style scoped>\n",
       "    .dataframe tbody tr th:only-of-type {\n",
       "        vertical-align: middle;\n",
       "    }\n",
       "\n",
       "    .dataframe tbody tr th {\n",
       "        vertical-align: top;\n",
       "    }\n",
       "\n",
       "    .dataframe thead th {\n",
       "        text-align: right;\n",
       "    }\n",
       "</style>\n",
       "<table border=\"1\" class=\"dataframe\">\n",
       "  <thead>\n",
       "    <tr style=\"text-align: right;\">\n",
       "      <th></th>\n",
       "      <th>Score</th>\n",
       "      <th>Height_cm</th>\n",
       "      <th>Rating</th>\n",
       "      <th>Fruit</th>\n",
       "      <th>Group</th>\n",
       "      <th>IsActive</th>\n",
       "    </tr>\n",
       "  </thead>\n",
       "  <tbody>\n",
       "    <tr>\n",
       "      <th>0</th>\n",
       "      <td>-1.085631</td>\n",
       "      <td>NaN</td>\n",
       "      <td>2.0</td>\n",
       "      <td>banana</td>\n",
       "      <td>D</td>\n",
       "      <td>Yes</td>\n",
       "    </tr>\n",
       "    <tr>\n",
       "      <th>1</th>\n",
       "      <td>0.997345</td>\n",
       "      <td>16.480034</td>\n",
       "      <td>Rating: 5.0</td>\n",
       "      <td>apple</td>\n",
       "      <td>A</td>\n",
       "      <td>No</td>\n",
       "    </tr>\n",
       "    <tr>\n",
       "      <th>2</th>\n",
       "      <td>0.282978</td>\n",
       "      <td>49.244711</td>\n",
       "      <td>NaN</td>\n",
       "      <td>banana</td>\n",
       "      <td>B</td>\n",
       "      <td>No</td>\n",
       "    </tr>\n",
       "    <tr>\n",
       "      <th>3</th>\n",
       "      <td>-1.506295</td>\n",
       "      <td>NaN</td>\n",
       "      <td>3.0</td>\n",
       "      <td>grape</td>\n",
       "      <td>D</td>\n",
       "      <td>nan</td>\n",
       "    </tr>\n",
       "    <tr>\n",
       "      <th>4</th>\n",
       "      <td>-0.578600</td>\n",
       "      <td>31.599083317303908cm</td>\n",
       "      <td>NaN</td>\n",
       "      <td>banana</td>\n",
       "      <td>C</td>\n",
       "      <td>No</td>\n",
       "    </tr>\n",
       "  </tbody>\n",
       "</table>\n",
       "</div>"
      ],
      "text/plain": [
       "      Score             Height_cm       Rating   Fruit Group IsActive\n",
       "0 -1.085631                   NaN          2.0  banana     D      Yes\n",
       "1  0.997345             16.480034  Rating: 5.0   apple     A       No\n",
       "2  0.282978             49.244711          NaN  banana     B       No\n",
       "3 -1.506295                   NaN          3.0   grape     D      nan\n",
       "4 -0.578600  31.599083317303908cm          NaN  banana     C       No"
      ]
     },
     "execution_count": 1,
     "metadata": {},
     "output_type": "execute_result"
    }
   ],
   "source": [
    "import pandas as pd\n",
    "import numpy as np\n",
    "\n",
    "np.random.seed(123)\n",
    "\n",
    "# Generate numerical columns with NaN values\n",
    "num1 = np.random.randn(500)\n",
    "num2 = np.random.uniform(10, 50, size=500)\n",
    "num3 = np.random.randint(1, 6, size=500).astype('float')\n",
    "num1[np.random.choice(500, 60, replace=False)] = np.nan\n",
    "num2[np.random.choice(500, 60, replace=False)] = np.nan\n",
    "num3[np.random.choice(500, 60, replace=False)] = np.nan\n",
    "\n",
    "# Generate messy categorical/text columns\n",
    "cat1 = np.random.choice(['apple', 'banana', 'grape', np.nan], size=500, p=[0.3, 0.3, 0.3, 0.1])\n",
    "cat2 = np.random.choice(['A', 'B', 'C', 'D'], size=500)\n",
    "cat3 = np.random.choice(['Yes', 'No', np.nan], size=500, p=[0.45, 0.45, 0.10])\n",
    "\n",
    "# Combine into DataFrame and add untidiness\n",
    "df_untidy = pd.DataFrame({\n",
    "    'Score': num1,\n",
    "    'Height_cm': num2,\n",
    "    'Rating': num3,\n",
    "    'Fruit': cat1,\n",
    "    'Group': cat2,\n",
    "    'IsActive': cat3\n",
    "})\n",
    "\n",
    "# Add untidy issues:\n",
    "df_untidy.loc[df_untidy.sample(frac=0.15, random_state=1).index, 'Height_cm'] = \\\n",
    "    df_untidy['Height_cm'].dropna().astype(str) + 'cm'   # Mix data type in Height_cm\n",
    "\n",
    "df_untidy.loc[df_untidy.sample(frac=0.15, random_state=2).index, 'Rating'] = \\\n",
    "    'Rating: ' + df_untidy['Rating'].dropna().astype(str) # Prefix string for some ratings\n",
    "\n",
    "df_untidy.head()\n"
   ]
  },
  {
   "cell_type": "markdown",
   "id": "6c48871f",
   "metadata": {},
   "source": [
    "- Q1. Identify columns with missing values and demonstrate at least two methods for imputing or filling these missing values (e.g., mean for numerics, mode for categoricals)."
   ]
  },
  {
   "cell_type": "code",
   "execution_count": 2,
   "id": "24181f2c",
   "metadata": {},
   "outputs": [
    {
     "name": "stdout",
     "output_type": "stream",
     "text": [
      "Score        60\n",
      "Height_cm    60\n",
      "Rating       60\n",
      "Fruit         0\n",
      "Group         0\n",
      "IsActive      0\n",
      "dtype: int64\n"
     ]
    }
   ],
   "source": [
    "# Count missing values in each column\n",
    "print(df_untidy.isnull().sum())\n"
   ]
  },
  {
   "cell_type": "markdown",
   "id": "2cca2d9b",
   "metadata": {},
   "source": [
    "- Q2.  Identify columns with non-numeric (categorical) data and convert them into a numeric format using encoding techniques such as one-hot encoding or label encoding."
   ]
  },
  {
   "cell_type": "code",
   "execution_count": 3,
   "id": "710a8c72",
   "metadata": {},
   "outputs": [
    {
     "name": "stdout",
     "output_type": "stream",
     "text": [
      "Categorical Columns: ['Height_cm', 'Rating', 'Fruit', 'Group', 'IsActive']\n"
     ]
    }
   ],
   "source": [
    "# Select categorical/object dtype columns\n",
    "cat_cols = df_untidy.select_dtypes(include=['object']).columns\n",
    "print(\"Categorical Columns:\", cat_cols.tolist())\n"
   ]
  },
  {
   "cell_type": "code",
   "execution_count": 4,
   "id": "185e61f4",
   "metadata": {},
   "outputs": [],
   "source": [
    "# Clean Height_cm -> remove \"cm\" and convert to float\n",
    "df_untidy['Height_cm_clean'] = df_untidy['Height_cm'].replace('cm', '', regex=True).astype(float)\n",
    "\n",
    "# Clean Rating -> remove \"Rating: \" and convert to float\n",
    "df_untidy['Rating_clean'] = df_untidy['Rating'].replace('Rating: ', '', regex=True).astype(float)\n"
   ]
  },
  {
   "cell_type": "code",
   "execution_count": 5,
   "id": "5d89359d",
   "metadata": {},
   "outputs": [
    {
     "data": {
      "text/html": [
       "<div>\n",
       "<style scoped>\n",
       "    .dataframe tbody tr th:only-of-type {\n",
       "        vertical-align: middle;\n",
       "    }\n",
       "\n",
       "    .dataframe tbody tr th {\n",
       "        vertical-align: top;\n",
       "    }\n",
       "\n",
       "    .dataframe thead th {\n",
       "        text-align: right;\n",
       "    }\n",
       "</style>\n",
       "<table border=\"1\" class=\"dataframe\">\n",
       "  <thead>\n",
       "    <tr style=\"text-align: right;\">\n",
       "      <th></th>\n",
       "      <th>IsActive</th>\n",
       "      <th>IsActive_encoded</th>\n",
       "    </tr>\n",
       "  </thead>\n",
       "  <tbody>\n",
       "    <tr>\n",
       "      <th>0</th>\n",
       "      <td>Yes</td>\n",
       "      <td>1</td>\n",
       "    </tr>\n",
       "    <tr>\n",
       "      <th>1</th>\n",
       "      <td>No</td>\n",
       "      <td>0</td>\n",
       "    </tr>\n",
       "    <tr>\n",
       "      <th>2</th>\n",
       "      <td>No</td>\n",
       "      <td>0</td>\n",
       "    </tr>\n",
       "    <tr>\n",
       "      <th>3</th>\n",
       "      <td>nan</td>\n",
       "      <td>2</td>\n",
       "    </tr>\n",
       "    <tr>\n",
       "      <th>4</th>\n",
       "      <td>No</td>\n",
       "      <td>0</td>\n",
       "    </tr>\n",
       "  </tbody>\n",
       "</table>\n",
       "</div>"
      ],
      "text/plain": [
       "  IsActive  IsActive_encoded\n",
       "0      Yes                 1\n",
       "1       No                 0\n",
       "2       No                 0\n",
       "3      nan                 2\n",
       "4       No                 0"
      ]
     },
     "execution_count": 5,
     "metadata": {},
     "output_type": "execute_result"
    }
   ],
   "source": [
    "from sklearn.preprocessing import LabelEncoder\n",
    "\n",
    "le = LabelEncoder()\n",
    "df_untidy['IsActive_encoded'] = le.fit_transform(df_untidy['IsActive'].fillna(\"Unknown\"))\n",
    "df_untidy[['IsActive', 'IsActive_encoded']].head()\n"
   ]
  },
  {
   "cell_type": "markdown",
   "id": "712a6d0e",
   "metadata": {},
   "source": [
    "- Q3. Detect any columns in the DataFrame that contain mixed data types (such as numbers stored as strings or strings with prefixes). Write code to clean and convert these columns to appropriate, consistent types."
   ]
  },
  {
   "cell_type": "code",
   "execution_count": 6,
   "id": "d5f4ce74",
   "metadata": {},
   "outputs": [
    {
     "name": "stdout",
     "output_type": "stream",
     "text": [
      "Score               float64\n",
      "Height_cm            object\n",
      "Rating               object\n",
      "Fruit                object\n",
      "Group                object\n",
      "IsActive             object\n",
      "Height_cm_clean     float64\n",
      "Rating_clean        float64\n",
      "IsActive_encoded      int64\n",
      "dtype: object\n",
      "\n",
      "Unique sample values in Height_cm:\n",
      "[16.480033632478424 49.244710931099114 '31.599083317303908cm'\n",
      " 45.22428568706372 25.652659700690286 36.253727839177266\n",
      " 23.078727432918583 17.175606986186637 28.672395098479146\n",
      " 20.531241452266364]\n",
      "\n",
      "Unique sample values in Rating:\n",
      "[2.0 'Rating: 5.0' 3.0 1.0 5.0 'Rating: 2.0' 4.0 'Rating: 3.0'\n",
      " 'Rating: 1.0' 'Rating: 4.0']\n",
      "\n",
      "Unique sample values in Fruit:\n",
      "['banana' 'apple' 'grape' 'nan']\n",
      "\n",
      "Unique sample values in Group:\n",
      "['D' 'A' 'B' 'C']\n",
      "\n",
      "Unique sample values in IsActive:\n",
      "['Yes' 'No' 'nan']\n"
     ]
    }
   ],
   "source": [
    "# Check column dtypes\n",
    "print(df_untidy.dtypes)\n",
    "\n",
    "# Look for object columns that should be numeric\n",
    "for col in df_untidy.columns:\n",
    "    if df_untidy[col].dtype == 'object':\n",
    "        print(f\"\\nUnique sample values in {col}:\")\n",
    "        print(df_untidy[col].dropna().unique()[:10])  # show first 10 unique values\n"
   ]
  },
  {
   "cell_type": "code",
   "execution_count": 7,
   "id": "aef7f893",
   "metadata": {},
   "outputs": [],
   "source": [
    "df_untidy['Height_cm_clean'] = (\n",
    "    df_untidy['Height_cm']\n",
    "    .astype(str)                 # ensure string for replace\n",
    "    .str.replace('cm', '', regex=False)\n",
    "    .replace('nan', np.nan)      # turn \"nan\" back into np.nan\n",
    "    .astype(float)\n",
    ")\n"
   ]
  },
  {
   "cell_type": "code",
   "execution_count": 8,
   "id": "876b5621",
   "metadata": {},
   "outputs": [],
   "source": [
    "df_untidy['Rating_clean'] = (\n",
    "    df_untidy['Rating']\n",
    "    .astype(str)\n",
    "    .str.replace('Rating: ', '', regex=False)\n",
    "    .replace('nan', np.nan)\n",
    "    .astype(float)\n",
    ")\n"
   ]
  },
  {
   "cell_type": "code",
   "execution_count": 9,
   "id": "8c1c85c3",
   "metadata": {},
   "outputs": [
    {
     "name": "stdout",
     "output_type": "stream",
     "text": [
      "              Height_cm  Height_cm_clean\n",
      "0                   NaN              NaN\n",
      "1             16.480034        16.480034\n",
      "2             49.244711        49.244711\n",
      "3                   NaN              NaN\n",
      "4  31.599083317303908cm        31.599083\n",
      "5                   NaN              NaN\n",
      "6             45.224286        45.224286\n",
      "7              25.65266        25.652660\n",
      "8             36.253728        36.253728\n",
      "9                   NaN              NaN\n",
      "        Rating  Rating_clean\n",
      "0          2.0           2.0\n",
      "1  Rating: 5.0           5.0\n",
      "2          NaN           NaN\n",
      "3          3.0           3.0\n",
      "4          NaN           NaN\n",
      "5          1.0           1.0\n",
      "6          3.0           3.0\n",
      "7          3.0           3.0\n",
      "8          5.0           5.0\n",
      "9          2.0           2.0\n"
     ]
    }
   ],
   "source": [
    "print(df_untidy[['Height_cm', 'Height_cm_clean']].head(10))\n",
    "print(df_untidy[['Rating', 'Rating_clean']].head(10))\n"
   ]
  },
  {
   "cell_type": "markdown",
   "id": "2018da67",
   "metadata": {},
   "source": [
    "- Q4. Apply scaling and/or normalization techniques (such as Min-Max Scaling and Standardization) to the numerical columns to prepare them for downstream machine learning tasks."
   ]
  },
  {
   "cell_type": "code",
   "execution_count": 10,
   "id": "72d4a1cb",
   "metadata": {},
   "outputs": [
    {
     "name": "stdout",
     "output_type": "stream",
     "text": [
      "      Score  Height_cm_clean  Rating_clean\n",
      "0 -1.085631              NaN           2.0\n",
      "1  0.997345        16.480034           5.0\n",
      "2  0.282978        49.244711           NaN\n",
      "3 -1.506295              NaN           3.0\n",
      "4 -0.578600        31.599083           NaN\n",
      "      Score             Height_cm       Rating   Fruit Group IsActive  \\\n",
      "0 -1.085631                   NaN          2.0  banana     D      Yes   \n",
      "1  0.997345             16.480034  Rating: 5.0   apple     A       No   \n",
      "2  0.282978             49.244711          NaN  banana     B       No   \n",
      "3 -1.506295                   NaN          3.0   grape     D      nan   \n",
      "4 -0.578600  31.599083317303908cm          NaN  banana     C       No   \n",
      "\n",
      "   Height_cm_clean  Rating_clean  IsActive_encoded  Score_minmax  \\\n",
      "0              NaN           2.0                 1      0.346613   \n",
      "1        16.480034           5.0                 0      0.683137   \n",
      "2        49.244711           NaN                 0      0.567725   \n",
      "3              NaN           3.0                 2      0.278651   \n",
      "4        31.599083           NaN                 0      0.428529   \n",
      "\n",
      "   Height_cm_clean_minmax  Rating_clean_minmax  Score_std  \\\n",
      "0                     NaN                 0.25  -1.074490   \n",
      "1                0.162150                 1.00   1.021067   \n",
      "2                0.982630                  NaN   0.302385   \n",
      "3                     NaN                 0.50  -1.497695   \n",
      "4                0.540755                  NaN  -0.564397   \n",
      "\n",
      "   Height_cm_clean_std  Rating_clean_std  \n",
      "0                  NaN         -0.736795  \n",
      "1            -1.132990          1.424470  \n",
      "2             1.692095               NaN  \n",
      "3                  NaN         -0.016373  \n",
      "4             0.170627               NaN  \n"
     ]
    }
   ],
   "source": [
    "num_cols = ['Score', 'Height_cm_clean', 'Rating_clean']\n",
    "print(df_untidy[num_cols].head())\n",
    "from sklearn.preprocessing import MinMaxScaler\n",
    "\n",
    "scaler = MinMaxScaler()\n",
    "df_minmax = pd.DataFrame(\n",
    "    scaler.fit_transform(df_untidy[num_cols]),\n",
    "    columns=[col + '_minmax' for col in num_cols]\n",
    ")\n",
    "from sklearn.preprocessing import StandardScaler\n",
    "\n",
    "scaler = StandardScaler()\n",
    "df_standard = pd.DataFrame(\n",
    "    scaler.fit_transform(df_untidy[num_cols]),\n",
    "    columns=[col + '_std' for col in num_cols]\n",
    ")\n",
    "df_scaled = pd.concat([df_untidy, df_minmax, df_standard], axis=1)\n",
    "print(df_scaled.head())\n"
   ]
  },
  {
   "cell_type": "markdown",
   "id": "8f55d1a5",
   "metadata": {},
   "source": [
    "- Q5. Write a function to check for and report any remaining inconsistencies (missing values, mixed types, out-of-range values) in the cleaned DataFrame. Validate that the preprocessing steps have successfully prepared the data for analysis."
   ]
  },
  {
   "cell_type": "code",
   "execution_count": 11,
   "id": "313f752c",
   "metadata": {},
   "outputs": [],
   "source": [
    "import numpy as np\n",
    "import pandas as pd\n",
    "\n",
    "def validate_dataframe(df, numeric_ranges=None):\n",
    "    \"\"\"\n",
    "    Validate a cleaned DataFrame for analysis readiness.\n",
    "    \n",
    "    Parameters:\n",
    "    -----------\n",
    "    df : pd.DataFrame\n",
    "        The DataFrame to check.\n",
    "    numeric_ranges : dict, optional\n",
    "        Dictionary of expected numeric ranges, e.g.,\n",
    "        {\"Rating_clean\": (1, 5), \"Height_cm_clean\": (0, 300)}\n",
    "    \n",
    "    Returns:\n",
    "    --------\n",
    "    report : dict\n",
    "        Summary of issues found.\n",
    "    \"\"\"\n",
    "    report = {}\n",
    "\n",
    "    # 1. Missing values\n",
    "    missing = df.isnull().sum()\n",
    "    report[\"missing_values\"] = missing[missing > 0].to_dict()\n",
    "\n",
    "    # 2. Mixed types\n",
    "    mixed_types = {}\n",
    "    for col in df.columns:\n",
    "        types = df[col].dropna().map(type).unique()\n",
    "        if len(types) > 1:\n",
    "            mixed_types[col] = types\n",
    "    report[\"mixed_types\"] = mixed_types\n",
    "\n",
    "    # 3. Out-of-range values\n",
    "    out_of_range = {}\n",
    "    if numeric_ranges:\n",
    "        for col, (low, high) in numeric_ranges.items():\n",
    "            if col in df.columns:\n",
    "                bad_vals = df[(df[col] < low) | (df[col] > high)][col]\n",
    "                if not bad_vals.empty:\n",
    "                    out_of_range[col] = bad_vals.tolist()\n",
    "    report[\"out_of_range\"] = out_of_range\n",
    "\n",
    "    return report\n"
   ]
  },
  {
   "cell_type": "code",
   "execution_count": 12,
   "id": "fab9cab4",
   "metadata": {},
   "outputs": [
    {
     "name": "stdout",
     "output_type": "stream",
     "text": [
      "{'missing_values': {'Score': 60, 'Height_cm': 60, 'Rating': 60, 'Height_cm_clean': 60, 'Rating_clean': 60}, 'mixed_types': {'Height_cm': array([<class 'float'>, <class 'str'>], dtype=object), 'Rating': array([<class 'float'>, <class 'str'>], dtype=object)}, 'out_of_range': {}}\n"
     ]
    }
   ],
   "source": [
    "# Define expected ranges\n",
    "ranges = {\n",
    "    \"Rating_clean\": (1, 5),       # ratings must be between 1 and 5\n",
    "    \"Height_cm_clean\": (0, 300),  # heights in cm must be reasonable\n",
    "}\n",
    "\n",
    "# Validate\n",
    "report = validate_dataframe(df_untidy, numeric_ranges=ranges)\n",
    "print(report)\n"
   ]
  }
 ],
 "metadata": {
  "kernelspec": {
   "display_name": "Python 3",
   "language": "python",
   "name": "python3"
  },
  "language_info": {
   "codemirror_mode": {
    "name": "ipython",
    "version": 3
   },
   "file_extension": ".py",
   "mimetype": "text/x-python",
   "name": "python",
   "nbconvert_exporter": "python",
   "pygments_lexer": "ipython3",
   "version": "3.13.7"
  }
 },
 "nbformat": 4,
 "nbformat_minor": 5
}
