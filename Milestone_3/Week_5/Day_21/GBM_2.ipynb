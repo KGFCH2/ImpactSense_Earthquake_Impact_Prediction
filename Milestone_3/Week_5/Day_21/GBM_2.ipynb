{
  "cells": [
    {
      "cell_type": "markdown",
      "metadata": {
        "id": "GOq-MtcMpXJ7"
      },
      "source": [
        "### LightGBM (Light Gradient Boosting Machine)\n",
        "- What is LightGBM?\n",
        "\n",
        "`LightGBM` is an open-source, high-performance gradient boosting framework developed by Microsoft. It builds decision trees in a leaf-wise manner rather than a level-wise manner, which generally leads to faster training and higher accuracy. It uses histogram-based algorithms for faster splitting and has specialized features like Gradient-Based One-Side Sampling (GOSS) and Exclusive Feature Bundling (EFB) to speed up training on large datasets efficiently. LightGBM supports both classification and regression tasks.\n",
        "\n",
        "**Key features:**\n",
        "\n",
        "  - Leaf-wise tree growth for better accuracy\n",
        "\n",
        "  - Histogram-based splits for speed and memory efficiency\n",
        "\n",
        "  - GOSS to focus training on samples with large gradients\n",
        "\n",
        "  - EFB to reduce dimensionality by bundling features\n",
        "\n",
        "  - Supports GPU acceleration\n",
        "\n",
        "Example usage (regression with Python LightGBM):"
      ]
    },
    {
      "cell_type": "code",
      "execution_count": 4,
      "metadata": {},
      "outputs": [
        {
          "name": "stdout",
          "output_type": "stream",
          "text": [
            "Defaulting to user installation because normal site-packages is not writeable\n",
            "Requirement already satisfied: lightgbm in c:\\users\\babin\\appdata\\roaming\\python\\python313\\site-packages (4.6.0)\n",
            "Requirement already satisfied: numpy>=1.17.0 in c:\\users\\babin\\appdata\\roaming\\python\\python313\\site-packages (from lightgbm) (2.2.4)\n",
            "Requirement already satisfied: scipy in c:\\users\\babin\\appdata\\roaming\\python\\python313\\site-packages (from lightgbm) (1.15.2)\n",
            "Note: you may need to restart the kernel to use updated packages.\n"
          ]
        }
      ],
      "source": [
        "pip install lightgbm"
      ]
    },
    {
      "cell_type": "code",
      "execution_count": 5,
      "metadata": {
        "id": "Ii3lbctam9sT"
      },
      "outputs": [],
      "source": [
        "#!pip install lightgbm\n",
        "import lightgbm as lgb\n",
        "from sklearn.datasets import fetch_california_housing\n",
        "from sklearn.model_selection import train_test_split\n",
        "from sklearn.metrics import mean_squared_error\n",
        "\n",
        "#Load dataset\n",
        "data = fetch_california_housing()\n",
        "X_train, X_test, y_train, y_test = train_test_split(data.data, data.target, test_size=0.2, random_state=42)"
      ]
    },
    {
      "cell_type": "code",
      "execution_count": 6,
      "metadata": {
        "id": "KE0O-OPQqiFj"
      },
      "outputs": [],
      "source": [
        "# Create LightGBM dataset format\n",
        "train_data = lgb.Dataset(X_train, label=y_train)\n",
        "test_data = lgb.Dataset(X_test, label=y_test, reference=train_data)"
      ]
    },
    {
      "cell_type": "code",
      "execution_count": 7,
      "metadata": {
        "id": "sBAk34wSqyo5"
      },
      "outputs": [],
      "source": [
        "# Set parameters\n",
        "params = {\n",
        "    'boosting_type': 'gbdt',\n",
        "    'objective': 'regression',\n",
        "    'metric': 'rmse',\n",
        "    'num_leaves': 31,\n",
        "    'learning_rate': 0.05,\n",
        "    'feature_fraction': 0.9,\n",
        "    'bagging_fraction': 0.8,\n",
        "    'bagging_freq': 5,\n",
        "    'verbose': 0\n",
        "}\n"
      ]
    },
    {
      "cell_type": "code",
      "execution_count": 8,
      "metadata": {
        "colab": {
          "base_uri": "https://localhost:8080/"
        },
        "id": "UhaHPVAUrU5Z",
        "outputId": "447299c7-a560-44a7-9baf-fa4f50bbc8d4"
      },
      "outputs": [],
      "source": [
        "# Train the model\n",
        "num_rounds = 100\n",
        "model = lgb.train(params, train_data, num_rounds, valid_sets=[test_data])"
      ]
    },
    {
      "cell_type": "code",
      "execution_count": 9,
      "metadata": {
        "colab": {
          "base_uri": "https://localhost:8080/"
        },
        "id": "ZcFBbSpXrht4",
        "outputId": "8b2b7603-f730-4c45-a9e2-57f346119c02"
      },
      "outputs": [
        {
          "name": "stdout",
          "output_type": "stream",
          "text": [
            "RMSE: 0.23285525605518215\n"
          ]
        }
      ],
      "source": [
        "# Predict and evaluate\n",
        "y_pred = model.predict(X_test, num_iteration=model.best_iteration)\n",
        "rmse = mean_squared_error(y_test, y_pred)\n",
        "print(f'RMSE: {rmse}')"
      ]
    },
    {
      "cell_type": "markdown",
      "metadata": {
        "id": "JLHn149Lr0-q"
      },
      "source": [
        "### CatBoost (Categorical Boosting)\n",
        "- What is CatBoost?\n",
        "\n",
        "`CatBoost` is a gradient boosting framework developed by Yandex that handles categorical features natively without the need for extensive preprocessing like one-hot encoding. It uses ordered boosting, which avoids prediction shifts and overfitting, and offers automatic handling of categorical variables, making it extremely effective for datasets with mixed categorical and numerical features. CatBoost is also competitive in speed and accuracy and supports GPU acceleration.\n",
        "\n",
        "**Key features:**\n",
        "\n",
        "  - Native categorical feature support\n",
        "\n",
        "  - Ordered boosting to reduce overfitting\n",
        "\n",
        "  - Efficient handling of missing data\n",
        "\n",
        "  - Easy hyperparameter tuning\n",
        "\n",
        "  - Supports classification, regression, ranking, and multi-class problems\n",
        "\n",
        "Example usage (classification with Python CatBoost):"
      ]
    },
    {
      "cell_type": "code",
      "execution_count": 10,
      "metadata": {
        "colab": {
          "base_uri": "https://localhost:8080/"
        },
        "id": "9NzuKB3IuEZ4",
        "outputId": "c3d9673c-302a-4c7c-a52b-336f5e991f2e"
      },
      "outputs": [
        {
          "name": "stdout",
          "output_type": "stream",
          "text": [
            "Defaulting to user installation because normal site-packages is not writeable\n",
            "Collecting catboost\n",
            "  Downloading catboost-1.2.8-cp313-cp313-win_amd64.whl.metadata (1.5 kB)\n",
            "Collecting graphviz (from catboost)\n",
            "  Downloading graphviz-0.21-py3-none-any.whl.metadata (12 kB)\n",
            "Requirement already satisfied: matplotlib in c:\\users\\babin\\appdata\\roaming\\python\\python313\\site-packages (from catboost) (3.10.1)\n",
            "Requirement already satisfied: numpy<3.0,>=1.16.0 in c:\\users\\babin\\appdata\\roaming\\python\\python313\\site-packages (from catboost) (2.2.4)\n",
            "Requirement already satisfied: pandas>=0.24 in c:\\users\\babin\\appdata\\roaming\\python\\python313\\site-packages (from catboost) (2.2.3)\n",
            "Requirement already satisfied: scipy in c:\\users\\babin\\appdata\\roaming\\python\\python313\\site-packages (from catboost) (1.15.2)\n",
            "Requirement already satisfied: plotly in c:\\users\\babin\\appdata\\roaming\\python\\python313\\site-packages (from catboost) (6.3.0)\n",
            "Requirement already satisfied: six in c:\\users\\babin\\appdata\\roaming\\python\\python313\\site-packages (from catboost) (1.17.0)\n",
            "Requirement already satisfied: python-dateutil>=2.8.2 in c:\\users\\babin\\appdata\\roaming\\python\\python313\\site-packages (from pandas>=0.24->catboost) (2.9.0.post0)\n",
            "Requirement already satisfied: pytz>=2020.1 in c:\\users\\babin\\appdata\\roaming\\python\\python313\\site-packages (from pandas>=0.24->catboost) (2025.1)\n",
            "Requirement already satisfied: tzdata>=2022.7 in c:\\users\\babin\\appdata\\roaming\\python\\python313\\site-packages (from pandas>=0.24->catboost) (2025.1)\n",
            "Requirement already satisfied: contourpy>=1.0.1 in c:\\users\\babin\\appdata\\roaming\\python\\python313\\site-packages (from matplotlib->catboost) (1.3.1)\n",
            "Requirement already satisfied: cycler>=0.10 in c:\\users\\babin\\appdata\\roaming\\python\\python313\\site-packages (from matplotlib->catboost) (0.12.1)\n",
            "Requirement already satisfied: fonttools>=4.22.0 in c:\\users\\babin\\appdata\\roaming\\python\\python313\\site-packages (from matplotlib->catboost) (4.56.0)\n",
            "Requirement already satisfied: kiwisolver>=1.3.1 in c:\\users\\babin\\appdata\\roaming\\python\\python313\\site-packages (from matplotlib->catboost) (1.4.8)\n",
            "Requirement already satisfied: packaging>=20.0 in c:\\users\\babin\\appdata\\roaming\\python\\python313\\site-packages (from matplotlib->catboost) (24.2)\n",
            "Requirement already satisfied: pillow>=8 in c:\\users\\babin\\appdata\\roaming\\python\\python313\\site-packages (from matplotlib->catboost) (11.1.0)\n",
            "Requirement already satisfied: pyparsing>=2.3.1 in c:\\users\\babin\\appdata\\roaming\\python\\python313\\site-packages (from matplotlib->catboost) (3.2.1)\n",
            "Requirement already satisfied: narwhals>=1.15.1 in c:\\users\\babin\\appdata\\roaming\\python\\python313\\site-packages (from plotly->catboost) (2.1.1)\n",
            "Downloading catboost-1.2.8-cp313-cp313-win_amd64.whl (102.4 MB)\n",
            "   ---------------------------------------- 0.0/102.4 MB ? eta -:--:--\n",
            "   ---------------------------------------- 1.0/102.4 MB 6.6 MB/s eta 0:00:16\n",
            "    --------------------------------------- 1.8/102.4 MB 4.6 MB/s eta 0:00:22\n",
            "    --------------------------------------- 2.4/102.4 MB 4.3 MB/s eta 0:00:24\n",
            "   - -------------------------------------- 3.1/102.4 MB 4.1 MB/s eta 0:00:25\n",
            "   - -------------------------------------- 3.7/102.4 MB 3.7 MB/s eta 0:00:28\n",
            "   - -------------------------------------- 4.2/102.4 MB 3.5 MB/s eta 0:00:29\n",
            "   - -------------------------------------- 4.7/102.4 MB 3.3 MB/s eta 0:00:31\n",
            "   -- ------------------------------------- 5.2/102.4 MB 3.1 MB/s eta 0:00:32\n",
            "   -- ------------------------------------- 5.8/102.4 MB 3.0 MB/s eta 0:00:33\n",
            "   -- ------------------------------------- 6.3/102.4 MB 3.0 MB/s eta 0:00:33\n",
            "   -- ------------------------------------- 7.1/102.4 MB 3.0 MB/s eta 0:00:32\n",
            "   --- ------------------------------------ 7.9/102.4 MB 3.1 MB/s eta 0:00:31\n",
            "   --- ------------------------------------ 8.7/102.4 MB 3.1 MB/s eta 0:00:31\n",
            "   --- ------------------------------------ 9.4/102.4 MB 3.1 MB/s eta 0:00:30\n",
            "   --- ------------------------------------ 10.2/102.4 MB 3.2 MB/s eta 0:00:29\n",
            "   ---- ----------------------------------- 11.0/102.4 MB 3.2 MB/s eta 0:00:29\n",
            "   ---- ----------------------------------- 11.5/102.4 MB 3.2 MB/s eta 0:00:29\n",
            "   ---- ----------------------------------- 12.3/102.4 MB 3.2 MB/s eta 0:00:28\n",
            "   ----- ---------------------------------- 13.1/102.4 MB 3.2 MB/s eta 0:00:28\n",
            "   ----- ---------------------------------- 13.9/102.4 MB 3.3 MB/s eta 0:00:28\n",
            "   ----- ---------------------------------- 14.7/102.4 MB 3.3 MB/s eta 0:00:27\n",
            "   ----- ---------------------------------- 15.2/102.4 MB 3.3 MB/s eta 0:00:27\n",
            "   ------ --------------------------------- 15.7/102.4 MB 3.2 MB/s eta 0:00:27\n",
            "   ------ --------------------------------- 16.3/102.4 MB 3.2 MB/s eta 0:00:27\n",
            "   ------ --------------------------------- 17.0/102.4 MB 3.2 MB/s eta 0:00:27\n",
            "   ------ --------------------------------- 17.6/102.4 MB 3.1 MB/s eta 0:00:27\n",
            "   ------ --------------------------------- 17.8/102.4 MB 3.1 MB/s eta 0:00:28\n",
            "   ------- -------------------------------- 18.4/102.4 MB 3.1 MB/s eta 0:00:28\n",
            "   ------- -------------------------------- 18.9/102.4 MB 3.1 MB/s eta 0:00:28\n",
            "   ------- -------------------------------- 19.4/102.4 MB 3.1 MB/s eta 0:00:28\n",
            "   ------- -------------------------------- 19.9/102.4 MB 3.0 MB/s eta 0:00:28\n",
            "   ------- -------------------------------- 20.4/102.4 MB 3.0 MB/s eta 0:00:28\n",
            "   -------- ------------------------------- 21.2/102.4 MB 3.0 MB/s eta 0:00:28\n",
            "   -------- ------------------------------- 21.5/102.4 MB 3.0 MB/s eta 0:00:28\n",
            "   -------- ------------------------------- 22.3/102.4 MB 3.0 MB/s eta 0:00:27\n",
            "   -------- ------------------------------- 22.8/102.4 MB 3.0 MB/s eta 0:00:27\n",
            "   --------- ------------------------------ 23.3/102.4 MB 3.0 MB/s eta 0:00:27\n",
            "   --------- ------------------------------ 23.9/102.4 MB 3.0 MB/s eta 0:00:27\n",
            "   --------- ------------------------------ 24.6/102.4 MB 3.0 MB/s eta 0:00:27\n",
            "   --------- ------------------------------ 25.2/102.4 MB 3.0 MB/s eta 0:00:27\n",
            "   ---------- ----------------------------- 25.7/102.4 MB 3.0 MB/s eta 0:00:26\n",
            "   ---------- ----------------------------- 26.5/102.4 MB 2.9 MB/s eta 0:00:26\n",
            "   ---------- ----------------------------- 27.0/102.4 MB 2.9 MB/s eta 0:00:26\n",
            "   ---------- ----------------------------- 27.8/102.4 MB 3.0 MB/s eta 0:00:26\n",
            "   ----------- ---------------------------- 28.6/102.4 MB 3.0 MB/s eta 0:00:25\n",
            "   ----------- ---------------------------- 29.1/102.4 MB 3.0 MB/s eta 0:00:25\n",
            "   ----------- ---------------------------- 29.9/102.4 MB 3.0 MB/s eta 0:00:25\n",
            "   ----------- ---------------------------- 30.7/102.4 MB 3.0 MB/s eta 0:00:25\n",
            "   ------------ --------------------------- 31.5/102.4 MB 3.0 MB/s eta 0:00:24\n",
            "   ------------ --------------------------- 32.0/102.4 MB 3.0 MB/s eta 0:00:24\n",
            "   ------------ --------------------------- 32.8/102.4 MB 3.0 MB/s eta 0:00:24\n",
            "   ------------- -------------------------- 33.6/102.4 MB 3.0 MB/s eta 0:00:23\n",
            "   ------------- -------------------------- 34.3/102.4 MB 3.0 MB/s eta 0:00:23\n",
            "   ------------- -------------------------- 34.9/102.4 MB 3.0 MB/s eta 0:00:23\n",
            "   ------------- -------------------------- 35.7/102.4 MB 3.0 MB/s eta 0:00:22\n",
            "   -------------- ------------------------- 36.4/102.4 MB 3.0 MB/s eta 0:00:22\n",
            "   -------------- ------------------------- 37.0/102.4 MB 3.0 MB/s eta 0:00:22\n",
            "   -------------- ------------------------- 37.7/102.4 MB 3.1 MB/s eta 0:00:22\n",
            "   --------------- ------------------------ 38.5/102.4 MB 3.1 MB/s eta 0:00:21\n",
            "   --------------- ------------------------ 39.3/102.4 MB 3.1 MB/s eta 0:00:21\n",
            "   --------------- ------------------------ 40.1/102.4 MB 3.1 MB/s eta 0:00:21\n",
            "   --------------- ------------------------ 40.9/102.4 MB 3.1 MB/s eta 0:00:20\n",
            "   ---------------- ----------------------- 41.4/102.4 MB 3.1 MB/s eta 0:00:20\n",
            "   ---------------- ----------------------- 42.2/102.4 MB 3.1 MB/s eta 0:00:20\n",
            "   ---------------- ----------------------- 42.7/102.4 MB 3.1 MB/s eta 0:00:20\n",
            "   ---------------- ----------------------- 43.5/102.4 MB 3.1 MB/s eta 0:00:20\n",
            "   ----------------- ---------------------- 44.0/102.4 MB 3.1 MB/s eta 0:00:19\n",
            "   ----------------- ---------------------- 44.6/102.4 MB 3.1 MB/s eta 0:00:19\n",
            "   ----------------- ---------------------- 45.4/102.4 MB 3.1 MB/s eta 0:00:19\n",
            "   ------------------ --------------------- 46.1/102.4 MB 3.1 MB/s eta 0:00:19\n",
            "   ------------------ --------------------- 46.4/102.4 MB 3.1 MB/s eta 0:00:19\n",
            "   ------------------ --------------------- 47.2/102.4 MB 3.1 MB/s eta 0:00:18\n",
            "   ------------------ --------------------- 47.7/102.4 MB 3.1 MB/s eta 0:00:18\n",
            "   ------------------ --------------------- 48.5/102.4 MB 3.1 MB/s eta 0:00:18\n",
            "   ------------------- -------------------- 49.0/102.4 MB 3.1 MB/s eta 0:00:18\n",
            "   ------------------- -------------------- 49.5/102.4 MB 3.1 MB/s eta 0:00:18\n",
            "   ------------------- -------------------- 50.3/102.4 MB 3.0 MB/s eta 0:00:18\n",
            "   ------------------- -------------------- 50.9/102.4 MB 3.0 MB/s eta 0:00:17\n",
            "   -------------------- ------------------- 51.4/102.4 MB 3.0 MB/s eta 0:00:17\n",
            "   -------------------- ------------------- 51.9/102.4 MB 3.0 MB/s eta 0:00:17\n",
            "   -------------------- ------------------- 52.2/102.4 MB 3.0 MB/s eta 0:00:17\n",
            "   -------------------- ------------------- 52.4/102.4 MB 3.0 MB/s eta 0:00:17\n",
            "   -------------------- ------------------- 53.2/102.4 MB 3.0 MB/s eta 0:00:17\n",
            "   --------------------- ------------------ 54.0/102.4 MB 3.0 MB/s eta 0:00:17\n",
            "   --------------------- ------------------ 54.5/102.4 MB 3.0 MB/s eta 0:00:16\n",
            "   --------------------- ------------------ 55.1/102.4 MB 3.0 MB/s eta 0:00:16\n",
            "   --------------------- ------------------ 55.6/102.4 MB 3.0 MB/s eta 0:00:16\n",
            "   ---------------------- ----------------- 56.4/102.4 MB 3.0 MB/s eta 0:00:16\n",
            "   ---------------------- ----------------- 56.9/102.4 MB 3.0 MB/s eta 0:00:16\n",
            "   ---------------------- ----------------- 57.7/102.4 MB 3.0 MB/s eta 0:00:15\n",
            "   ---------------------- ----------------- 57.9/102.4 MB 3.0 MB/s eta 0:00:15\n",
            "   ---------------------- ----------------- 58.7/102.4 MB 3.0 MB/s eta 0:00:15\n",
            "   ----------------------- ---------------- 59.0/102.4 MB 3.0 MB/s eta 0:00:15\n",
            "   ----------------------- ---------------- 59.5/102.4 MB 3.0 MB/s eta 0:00:15\n",
            "   ----------------------- ---------------- 60.3/102.4 MB 3.0 MB/s eta 0:00:15\n",
            "   ----------------------- ---------------- 60.8/102.4 MB 3.0 MB/s eta 0:00:15\n",
            "   ------------------------ --------------- 61.6/102.4 MB 3.0 MB/s eta 0:00:14\n",
            "   ------------------------ --------------- 62.1/102.4 MB 3.0 MB/s eta 0:00:14\n",
            "   ------------------------ --------------- 62.9/102.4 MB 3.0 MB/s eta 0:00:14\n",
            "   ------------------------ --------------- 63.7/102.4 MB 3.0 MB/s eta 0:00:14\n",
            "   ------------------------- -------------- 64.5/102.4 MB 3.0 MB/s eta 0:00:13\n",
            "   ------------------------- -------------- 65.0/102.4 MB 3.0 MB/s eta 0:00:13\n",
            "   ------------------------- -------------- 65.8/102.4 MB 3.0 MB/s eta 0:00:13\n",
            "   ------------------------- -------------- 66.3/102.4 MB 3.0 MB/s eta 0:00:13\n",
            "   -------------------------- ------------- 67.1/102.4 MB 3.0 MB/s eta 0:00:12\n",
            "   -------------------------- ------------- 67.9/102.4 MB 3.0 MB/s eta 0:00:12\n",
            "   -------------------------- ------------- 68.7/102.4 MB 3.0 MB/s eta 0:00:12\n",
            "   --------------------------- ------------ 69.5/102.4 MB 3.0 MB/s eta 0:00:11\n",
            "   --------------------------- ------------ 70.3/102.4 MB 3.0 MB/s eta 0:00:11\n",
            "   --------------------------- ------------ 71.0/102.4 MB 3.0 MB/s eta 0:00:11\n",
            "   ---------------------------- ----------- 71.8/102.4 MB 3.0 MB/s eta 0:00:11\n",
            "   ---------------------------- ----------- 72.6/102.4 MB 3.0 MB/s eta 0:00:10\n",
            "   ---------------------------- ----------- 73.4/102.4 MB 3.0 MB/s eta 0:00:10\n",
            "   ----------------------------- ---------- 74.4/102.4 MB 3.0 MB/s eta 0:00:10\n",
            "   ----------------------------- ---------- 75.2/102.4 MB 3.1 MB/s eta 0:00:09\n",
            "   ----------------------------- ---------- 76.0/102.4 MB 3.1 MB/s eta 0:00:09\n",
            "   ----------------------------- ---------- 76.8/102.4 MB 3.1 MB/s eta 0:00:09\n",
            "   ------------------------------ --------- 77.6/102.4 MB 3.1 MB/s eta 0:00:09\n",
            "   ------------------------------ --------- 78.4/102.4 MB 3.1 MB/s eta 0:00:08\n",
            "   ------------------------------ --------- 78.9/102.4 MB 3.1 MB/s eta 0:00:08\n",
            "   ------------------------------- -------- 79.7/102.4 MB 3.1 MB/s eta 0:00:08\n",
            "   ------------------------------- -------- 80.5/102.4 MB 3.1 MB/s eta 0:00:08\n",
            "   ------------------------------- -------- 81.3/102.4 MB 3.1 MB/s eta 0:00:07\n",
            "   -------------------------------- ------- 82.1/102.4 MB 3.1 MB/s eta 0:00:07\n",
            "   -------------------------------- ------- 82.8/102.4 MB 3.1 MB/s eta 0:00:07\n",
            "   -------------------------------- ------- 83.6/102.4 MB 3.1 MB/s eta 0:00:07\n",
            "   -------------------------------- ------- 84.4/102.4 MB 3.1 MB/s eta 0:00:06\n",
            "   --------------------------------- ------ 85.2/102.4 MB 3.1 MB/s eta 0:00:06\n",
            "   --------------------------------- ------ 86.0/102.4 MB 3.1 MB/s eta 0:00:06\n",
            "   --------------------------------- ------ 86.8/102.4 MB 3.1 MB/s eta 0:00:06\n",
            "   ---------------------------------- ----- 87.6/102.4 MB 3.1 MB/s eta 0:00:05\n",
            "   ---------------------------------- ----- 88.3/102.4 MB 3.1 MB/s eta 0:00:05\n",
            "   ---------------------------------- ----- 89.1/102.4 MB 3.1 MB/s eta 0:00:05\n",
            "   ----------------------------------- ---- 89.9/102.4 MB 3.1 MB/s eta 0:00:04\n",
            "   ----------------------------------- ---- 90.7/102.4 MB 3.1 MB/s eta 0:00:04\n",
            "   ----------------------------------- ---- 91.5/102.4 MB 3.1 MB/s eta 0:00:04\n",
            "   ------------------------------------ --- 92.3/102.4 MB 3.1 MB/s eta 0:00:04\n",
            "   ------------------------------------ --- 93.1/102.4 MB 3.1 MB/s eta 0:00:03\n",
            "   ------------------------------------ --- 93.8/102.4 MB 3.2 MB/s eta 0:00:03\n",
            "   ------------------------------------- -- 94.9/102.4 MB 3.2 MB/s eta 0:00:03\n",
            "   ------------------------------------- -- 95.7/102.4 MB 3.2 MB/s eta 0:00:03\n",
            "   ------------------------------------- -- 95.9/102.4 MB 3.2 MB/s eta 0:00:03\n",
            "   ------------------------------------- -- 97.3/102.4 MB 3.2 MB/s eta 0:00:02\n",
            "   -------------------------------------- - 98.0/102.4 MB 3.2 MB/s eta 0:00:02\n",
            "   -------------------------------------- - 98.8/102.4 MB 3.2 MB/s eta 0:00:02\n",
            "   -------------------------------------- - 99.6/102.4 MB 3.2 MB/s eta 0:00:01\n",
            "   ---------------------------------------  100.4/102.4 MB 3.2 MB/s eta 0:00:01\n",
            "   ---------------------------------------  100.9/102.4 MB 3.2 MB/s eta 0:00:01\n",
            "   ---------------------------------------  101.7/102.4 MB 3.2 MB/s eta 0:00:01\n",
            "   ---------------------------------------  101.7/102.4 MB 3.2 MB/s eta 0:00:01\n",
            "   ---------------------------------------  102.0/102.4 MB 3.2 MB/s eta 0:00:01\n",
            "   ---------------------------------------  102.2/102.4 MB 3.2 MB/s eta 0:00:01\n",
            "   ---------------------------------------  102.2/102.4 MB 3.2 MB/s eta 0:00:01\n",
            "   ---------------------------------------- 102.4/102.4 MB 3.1 MB/s  0:00:32\n",
            "Downloading graphviz-0.21-py3-none-any.whl (47 kB)\n",
            "Installing collected packages: graphviz, catboost\n",
            "\n",
            "   ---------------------------------------- 0/2 [graphviz]\n",
            "   ---------------------------------------- 0/2 [graphviz]\n",
            "   ---------------------------------------- 0/2 [graphviz]\n",
            "   ---------------------------------------- 0/2 [graphviz]\n",
            "   ---------------------------------------- 0/2 [graphviz]\n",
            "   ---------------------------------------- 0/2 [graphviz]\n",
            "   ---------------------------------------- 0/2 [graphviz]\n",
            "   ---------------------------------------- 0/2 [graphviz]\n",
            "   ---------------------------------------- 0/2 [graphviz]\n",
            "   -------------------- ------------------- 1/2 [catboost]\n",
            "   -------------------- ------------------- 1/2 [catboost]\n",
            "   -------------------- ------------------- 1/2 [catboost]\n",
            "   -------------------- ------------------- 1/2 [catboost]\n",
            "   -------------------- ------------------- 1/2 [catboost]\n",
            "   -------------------- ------------------- 1/2 [catboost]\n",
            "   -------------------- ------------------- 1/2 [catboost]\n",
            "   -------------------- ------------------- 1/2 [catboost]\n",
            "   -------------------- ------------------- 1/2 [catboost]\n",
            "   -------------------- ------------------- 1/2 [catboost]\n",
            "   -------------------- ------------------- 1/2 [catboost]\n",
            "   -------------------- ------------------- 1/2 [catboost]\n",
            "   -------------------- ------------------- 1/2 [catboost]\n",
            "   -------------------- ------------------- 1/2 [catboost]\n",
            "   -------------------- ------------------- 1/2 [catboost]\n",
            "   -------------------- ------------------- 1/2 [catboost]\n",
            "   -------------------- ------------------- 1/2 [catboost]\n",
            "   -------------------- ------------------- 1/2 [catboost]\n",
            "   -------------------- ------------------- 1/2 [catboost]\n",
            "   -------------------- ------------------- 1/2 [catboost]\n",
            "   -------------------- ------------------- 1/2 [catboost]\n",
            "   -------------------- ------------------- 1/2 [catboost]\n",
            "   -------------------- ------------------- 1/2 [catboost]\n",
            "   -------------------- ------------------- 1/2 [catboost]\n",
            "   -------------------- ------------------- 1/2 [catboost]\n",
            "   -------------------- ------------------- 1/2 [catboost]\n",
            "   -------------------- ------------------- 1/2 [catboost]\n",
            "   -------------------- ------------------- 1/2 [catboost]\n",
            "   -------------------- ------------------- 1/2 [catboost]\n",
            "   -------------------- ------------------- 1/2 [catboost]\n",
            "   ---------------------------------------- 2/2 [catboost]\n",
            "\n",
            "Successfully installed catboost-1.2.8 graphviz-0.21\n"
          ]
        }
      ],
      "source": [
        "!pip install catboost"
      ]
    },
    {
      "cell_type": "code",
      "execution_count": 11,
      "metadata": {
        "colab": {
          "base_uri": "https://localhost:8080/",
          "height": 310
        },
        "id": "MB4CsyWzsVrI",
        "outputId": "abcccc8a-d5e4-4271-d4c5-a74c9aaf78c5"
      },
      "outputs": [
        {
          "data": {
            "text/html": [
              "<div>\n",
              "<style scoped>\n",
              "    .dataframe tbody tr th:only-of-type {\n",
              "        vertical-align: middle;\n",
              "    }\n",
              "\n",
              "    .dataframe tbody tr th {\n",
              "        vertical-align: top;\n",
              "    }\n",
              "\n",
              "    .dataframe thead th {\n",
              "        text-align: right;\n",
              "    }\n",
              "</style>\n",
              "<table border=\"1\" class=\"dataframe\">\n",
              "  <thead>\n",
              "    <tr style=\"text-align: right;\">\n",
              "      <th></th>\n",
              "      <th>age</th>\n",
              "      <th>workclass</th>\n",
              "      <th>fnlwgt</th>\n",
              "      <th>education</th>\n",
              "      <th>education-num</th>\n",
              "      <th>marital-status</th>\n",
              "      <th>occupation</th>\n",
              "      <th>relationship</th>\n",
              "      <th>race</th>\n",
              "      <th>sex</th>\n",
              "      <th>capital-gain</th>\n",
              "      <th>capital-loss</th>\n",
              "      <th>hours-per-week</th>\n",
              "      <th>native-country</th>\n",
              "    </tr>\n",
              "  </thead>\n",
              "  <tbody>\n",
              "    <tr>\n",
              "      <th>0</th>\n",
              "      <td>25</td>\n",
              "      <td>Private</td>\n",
              "      <td>226802</td>\n",
              "      <td>11th</td>\n",
              "      <td>7</td>\n",
              "      <td>Never-married</td>\n",
              "      <td>Machine-op-inspct</td>\n",
              "      <td>Own-child</td>\n",
              "      <td>Black</td>\n",
              "      <td>Male</td>\n",
              "      <td>0</td>\n",
              "      <td>0</td>\n",
              "      <td>40</td>\n",
              "      <td>United-States</td>\n",
              "    </tr>\n",
              "    <tr>\n",
              "      <th>1</th>\n",
              "      <td>38</td>\n",
              "      <td>Private</td>\n",
              "      <td>89814</td>\n",
              "      <td>HS-grad</td>\n",
              "      <td>9</td>\n",
              "      <td>Married-civ-spouse</td>\n",
              "      <td>Farming-fishing</td>\n",
              "      <td>Husband</td>\n",
              "      <td>White</td>\n",
              "      <td>Male</td>\n",
              "      <td>0</td>\n",
              "      <td>0</td>\n",
              "      <td>50</td>\n",
              "      <td>United-States</td>\n",
              "    </tr>\n",
              "    <tr>\n",
              "      <th>2</th>\n",
              "      <td>28</td>\n",
              "      <td>Local-gov</td>\n",
              "      <td>336951</td>\n",
              "      <td>Assoc-acdm</td>\n",
              "      <td>12</td>\n",
              "      <td>Married-civ-spouse</td>\n",
              "      <td>Protective-serv</td>\n",
              "      <td>Husband</td>\n",
              "      <td>White</td>\n",
              "      <td>Male</td>\n",
              "      <td>0</td>\n",
              "      <td>0</td>\n",
              "      <td>40</td>\n",
              "      <td>United-States</td>\n",
              "    </tr>\n",
              "    <tr>\n",
              "      <th>3</th>\n",
              "      <td>44</td>\n",
              "      <td>Private</td>\n",
              "      <td>160323</td>\n",
              "      <td>Some-college</td>\n",
              "      <td>10</td>\n",
              "      <td>Married-civ-spouse</td>\n",
              "      <td>Machine-op-inspct</td>\n",
              "      <td>Husband</td>\n",
              "      <td>Black</td>\n",
              "      <td>Male</td>\n",
              "      <td>7688</td>\n",
              "      <td>0</td>\n",
              "      <td>40</td>\n",
              "      <td>United-States</td>\n",
              "    </tr>\n",
              "    <tr>\n",
              "      <th>4</th>\n",
              "      <td>18</td>\n",
              "      <td>NaN</td>\n",
              "      <td>103497</td>\n",
              "      <td>Some-college</td>\n",
              "      <td>10</td>\n",
              "      <td>Never-married</td>\n",
              "      <td>NaN</td>\n",
              "      <td>Own-child</td>\n",
              "      <td>White</td>\n",
              "      <td>Female</td>\n",
              "      <td>0</td>\n",
              "      <td>0</td>\n",
              "      <td>30</td>\n",
              "      <td>United-States</td>\n",
              "    </tr>\n",
              "  </tbody>\n",
              "</table>\n",
              "</div>"
            ],
            "text/plain": [
              "   age  workclass  fnlwgt     education  education-num      marital-status  \\\n",
              "0   25    Private  226802          11th              7       Never-married   \n",
              "1   38    Private   89814       HS-grad              9  Married-civ-spouse   \n",
              "2   28  Local-gov  336951    Assoc-acdm             12  Married-civ-spouse   \n",
              "3   44    Private  160323  Some-college             10  Married-civ-spouse   \n",
              "4   18        NaN  103497  Some-college             10       Never-married   \n",
              "\n",
              "          occupation relationship   race     sex  capital-gain  capital-loss  \\\n",
              "0  Machine-op-inspct    Own-child  Black    Male             0             0   \n",
              "1    Farming-fishing      Husband  White    Male             0             0   \n",
              "2    Protective-serv      Husband  White    Male             0             0   \n",
              "3  Machine-op-inspct      Husband  Black    Male          7688             0   \n",
              "4                NaN    Own-child  White  Female             0             0   \n",
              "\n",
              "   hours-per-week native-country  \n",
              "0              40  United-States  \n",
              "1              50  United-States  \n",
              "2              40  United-States  \n",
              "3              40  United-States  \n",
              "4              30  United-States  "
            ]
          },
          "execution_count": 11,
          "metadata": {},
          "output_type": "execute_result"
        }
      ],
      "source": [
        "#!pip install catboost\n",
        "from catboost import CatBoostClassifier\n",
        "from sklearn.datasets import fetch_openml\n",
        "from sklearn.metrics import accuracy_score\n",
        "\n",
        "# Load the dataset\n",
        "data = fetch_openml(name='adult', version=2, as_frame=True)\n",
        "X = data.data\n",
        "y = data.target\n",
        "\n",
        "X.head()"
      ]
    },
    {
      "cell_type": "code",
      "execution_count": 12,
      "metadata": {
        "colab": {
          "base_uri": "https://localhost:8080/",
          "height": 241
        },
        "id": "qByfGIV5s8fk",
        "outputId": "8e0f477a-53e7-41a9-ac60-ac03b0bb1620"
      },
      "outputs": [
        {
          "data": {
            "text/plain": [
              "0    <=50K\n",
              "1    <=50K\n",
              "2     >50K\n",
              "3     >50K\n",
              "4    <=50K\n",
              "Name: class, dtype: category\n",
              "Categories (2, object): ['<=50K', '>50K']"
            ]
          },
          "execution_count": 12,
          "metadata": {},
          "output_type": "execute_result"
        }
      ],
      "source": [
        "y.head()"
      ]
    },
    {
      "cell_type": "code",
      "execution_count": 13,
      "metadata": {
        "colab": {
          "base_uri": "https://localhost:8080/"
        },
        "id": "0r7fGsg2tDIm",
        "outputId": "c33a0d6a-074a-4ce8-acdd-1578667064f9"
      },
      "outputs": [
        {
          "name": "stdout",
          "output_type": "stream",
          "text": [
            "<class 'pandas.core.frame.DataFrame'>\n",
            "RangeIndex: 48842 entries, 0 to 48841\n",
            "Data columns (total 14 columns):\n",
            " #   Column          Non-Null Count  Dtype   \n",
            "---  ------          --------------  -----   \n",
            " 0   age             48842 non-null  int64   \n",
            " 1   workclass       46043 non-null  category\n",
            " 2   fnlwgt          48842 non-null  int64   \n",
            " 3   education       48842 non-null  category\n",
            " 4   education-num   48842 non-null  int64   \n",
            " 5   marital-status  48842 non-null  category\n",
            " 6   occupation      46033 non-null  category\n",
            " 7   relationship    48842 non-null  category\n",
            " 8   race            48842 non-null  category\n",
            " 9   sex             48842 non-null  category\n",
            " 10  capital-gain    48842 non-null  int64   \n",
            " 11  capital-loss    48842 non-null  int64   \n",
            " 12  hours-per-week  48842 non-null  int64   \n",
            " 13  native-country  47985 non-null  category\n",
            "dtypes: category(8), int64(6)\n",
            "memory usage: 2.6 MB\n"
          ]
        }
      ],
      "source": [
        "X.info()"
      ]
    },
    {
      "cell_type": "code",
      "execution_count": 14,
      "metadata": {
        "colab": {
          "base_uri": "https://localhost:8080/",
          "height": 523
        },
        "id": "lpMq86uWvOAd",
        "outputId": "519a3906-6bec-4597-92ef-b1848cd554c2"
      },
      "outputs": [
        {
          "data": {
            "text/plain": [
              "age                  0\n",
              "workclass         2799\n",
              "fnlwgt               0\n",
              "education            0\n",
              "education-num        0\n",
              "marital-status       0\n",
              "occupation        2809\n",
              "relationship         0\n",
              "race                 0\n",
              "sex                  0\n",
              "capital-gain         0\n",
              "capital-loss         0\n",
              "hours-per-week       0\n",
              "native-country     857\n",
              "dtype: int64"
            ]
          },
          "execution_count": 14,
          "metadata": {},
          "output_type": "execute_result"
        }
      ],
      "source": [
        "X.isnull().sum()"
      ]
    },
    {
      "cell_type": "code",
      "execution_count": 15,
      "metadata": {
        "colab": {
          "base_uri": "https://localhost:8080/"
        },
        "id": "8_WvyDwmtTmX",
        "outputId": "481cdffd-e3bd-4f7b-b4d3-42fdd7297a5a"
      },
      "outputs": [
        {
          "data": {
            "text/plain": [
              "Index(['age', 'workclass', 'fnlwgt', 'education', 'education-num',\n",
              "       'marital-status', 'occupation', 'relationship', 'race', 'sex',\n",
              "       'capital-gain', 'capital-loss', 'hours-per-week', 'native-country'],\n",
              "      dtype='object')"
            ]
          },
          "execution_count": 15,
          "metadata": {},
          "output_type": "execute_result"
        }
      ],
      "source": [
        "X.columns"
      ]
    },
    {
      "cell_type": "code",
      "execution_count": 16,
      "metadata": {
        "id": "YnPaWubMtH5w"
      },
      "outputs": [],
      "source": [
        "# Specify Categorical feature indices\n",
        "cat_features = ['workclass', 'education', 'marital-status', 'occupation', 'relationship', 'race', 'sex', 'native-country']"
      ]
    },
    {
      "cell_type": "code",
      "execution_count": 17,
      "metadata": {
        "colab": {
          "base_uri": "https://localhost:8080/"
        },
        "id": "w6lNO5cKvUVW",
        "outputId": "cdfdc5da-d22e-49df-c064-c512b610fb33"
      },
      "outputs": [
        {
          "name": "stderr",
          "output_type": "stream",
          "text": [
            "C:\\Users\\babin\\AppData\\Local\\Temp\\ipykernel_28796\\2542523128.py:4: SettingWithCopyWarning: \n",
            "A value is trying to be set on a copy of a slice from a DataFrame.\n",
            "Try using .loc[row_indexer,col_indexer] = value instead\n",
            "\n",
            "See the caveats in the documentation: https://pandas.pydata.org/pandas-docs/stable/user_guide/indexing.html#returning-a-view-versus-a-copy\n",
            "  X[col] = X[col].astype('object').fillna('Unknown')\n",
            "C:\\Users\\babin\\AppData\\Local\\Temp\\ipykernel_28796\\2542523128.py:4: SettingWithCopyWarning: \n",
            "A value is trying to be set on a copy of a slice from a DataFrame.\n",
            "Try using .loc[row_indexer,col_indexer] = value instead\n",
            "\n",
            "See the caveats in the documentation: https://pandas.pydata.org/pandas-docs/stable/user_guide/indexing.html#returning-a-view-versus-a-copy\n",
            "  X[col] = X[col].astype('object').fillna('Unknown')\n",
            "C:\\Users\\babin\\AppData\\Local\\Temp\\ipykernel_28796\\2542523128.py:4: SettingWithCopyWarning: \n",
            "A value is trying to be set on a copy of a slice from a DataFrame.\n",
            "Try using .loc[row_indexer,col_indexer] = value instead\n",
            "\n",
            "See the caveats in the documentation: https://pandas.pydata.org/pandas-docs/stable/user_guide/indexing.html#returning-a-view-versus-a-copy\n",
            "  X[col] = X[col].astype('object').fillna('Unknown')\n"
          ]
        }
      ],
      "source": [
        "# Fill the NaN values in the categorical features\n",
        "for col in cat_features:\n",
        "  if X[col].isnull().any():\n",
        "    X[col] = X[col].astype('object').fillna('Unknown')"
      ]
    },
    {
      "cell_type": "code",
      "execution_count": 18,
      "metadata": {
        "colab": {
          "base_uri": "https://localhost:8080/"
        },
        "id": "7eR7qpyvuaX5",
        "outputId": "94e77d0d-ba06-4d91-b05f-f7ee6cd49a19"
      },
      "outputs": [
        {
          "name": "stdout",
          "output_type": "stream",
          "text": [
            "0:\tlearn: 0.6447736\ttest: 0.6439227\tbest: 0.6439227 (0)\ttotal: 422ms\tremaining: 7m 1s\n",
            "100:\tlearn: 0.2907311\ttest: 0.2855474\tbest: 0.2855474 (100)\ttotal: 17s\tremaining: 2m 31s\n",
            "200:\tlearn: 0.2774430\ttest: 0.2757754\tbest: 0.2757754 (200)\ttotal: 33.6s\tremaining: 2m 13s\n",
            "300:\tlearn: 0.2689627\ttest: 0.2705039\tbest: 0.2704879 (299)\ttotal: 1m\tremaining: 2m 19s\n",
            "400:\tlearn: 0.2645073\ttest: 0.2687909\tbest: 0.2687909 (400)\ttotal: 1m 27s\tremaining: 2m 11s\n",
            "500:\tlearn: 0.2607042\ttest: 0.2679836\tbest: 0.2679836 (500)\ttotal: 1m 52s\tremaining: 1m 52s\n",
            "600:\tlearn: 0.2570087\ttest: 0.2671981\tbest: 0.2671981 (600)\ttotal: 2m 19s\tremaining: 1m 32s\n",
            "700:\tlearn: 0.2538711\ttest: 0.2670646\tbest: 0.2669976 (666)\ttotal: 2m 46s\tremaining: 1m 11s\n",
            "800:\tlearn: 0.2509253\ttest: 0.2665801\tbest: 0.2665433 (788)\ttotal: 3m 11s\tremaining: 47.6s\n",
            "900:\tlearn: 0.2482663\ttest: 0.2664843\tbest: 0.2664843 (900)\ttotal: 3m 37s\tremaining: 23.9s\n",
            "999:\tlearn: 0.2456063\ttest: 0.2661571\tbest: 0.2661421 (995)\ttotal: 4m 1s\tremaining: 0us\n",
            "\n",
            "bestTest = 0.266142118\n",
            "bestIteration = 995\n",
            "\n",
            "Shrink model to first 996 iterations.\n",
            "Accuracy: 0.8796192036032348\n"
          ]
        }
      ],
      "source": [
        "# Split dataset\n",
        "X_train, X_test, y_train, y_test = train_test_split(X, y, test_size=0.2, random_state=42)\n",
        "\n",
        "# Initialize CatBoost model\n",
        "model = CatBoostClassifier(iterations=1000, learning_rate=0.05, depth=6, verbose=100)\n",
        "\n",
        "# Train model with categorical features specified\n",
        "model.fit(X_train, y_train, cat_features=cat_features, eval_set=(X_test, y_test))\n",
        "\n",
        "# Predict and evaluate\n",
        "y_pred = model.predict(X_test)\n",
        "accuracy = accuracy_score(y_test, y_pred)\n",
        "print(f'Accuracy: {accuracy}')"
      ]
    }
  ],
  "metadata": {
    "colab": {
      "provenance": []
    },
    "kernelspec": {
      "display_name": "Python 3",
      "name": "python3"
    },
    "language_info": {
      "codemirror_mode": {
        "name": "ipython",
        "version": 3
      },
      "file_extension": ".py",
      "mimetype": "text/x-python",
      "name": "python",
      "nbconvert_exporter": "python",
      "pygments_lexer": "ipython3",
      "version": "3.13.7"
    }
  },
  "nbformat": 4,
  "nbformat_minor": 0
}
