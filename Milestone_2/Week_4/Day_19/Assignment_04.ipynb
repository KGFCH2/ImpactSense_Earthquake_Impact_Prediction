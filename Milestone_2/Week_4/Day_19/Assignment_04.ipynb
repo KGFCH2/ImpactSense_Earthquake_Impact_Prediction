{
 "cells": [
  {
   "cell_type": "markdown",
   "id": "ec871eb9",
   "metadata": {},
   "source": [
    "### Assignment-4\n",
    "\n",
    "**Objective:**\n",
    "\n",
    "Understand and implement model evaluation using cross-validation and improve model performance by hyperparameter tuning."
   ]
  },
  {
   "cell_type": "markdown",
   "id": "0b546c0c",
   "metadata": {},
   "source": [
    "Step 1: Import Libraries and Load Data"
   ]
  },
  {
   "cell_type": "code",
   "execution_count": 1,
   "id": "61bf31f2",
   "metadata": {},
   "outputs": [],
   "source": [
    "# Step 1: Import Libraries and Load Data\n",
    "import pandas as pd\n",
    "import numpy as np\n",
    "\n",
    "# ML tools\n",
    "from sklearn.model_selection import train_test_split, cross_val_score, GridSearchCV\n",
    "from sklearn.metrics import accuracy_score, classification_report\n",
    "from sklearn.ensemble import RandomForestClassifier\n",
    "\n",
    "# Visualization\n",
    "import matplotlib.pyplot as plt\n",
    "import seaborn as sns\n"
   ]
  },
  {
   "cell_type": "markdown",
   "id": "854d72e2",
   "metadata": {},
   "source": [
    "Step 2: Load Dataset and Prepare Features and Target"
   ]
  },
  {
   "cell_type": "code",
   "execution_count": 7,
   "id": "6cfa9002",
   "metadata": {},
   "outputs": [
    {
     "name": "stdout",
     "output_type": "stream",
     "text": [
      "First 5 rows:\n",
      "   Latitude  Longitude        Type     Depth  Magnitude Magnitude Type  \\\n",
      "0  0.583377   0.844368  Earthquake  0.495984   0.277668             MW   \n",
      "1  0.006109   0.698849  Earthquake  0.075272  -0.195082             MW   \n",
      "2 -0.739162  -1.701962  Earthquake -0.413928   0.750418             MW   \n",
      "3 -2.017599  -0.503524  Earthquake -0.454694  -0.195082             MW   \n",
      "4  0.340688   0.691479  Earthquake -0.454694  -0.195082             MW   \n",
      "\n",
      "   Root Mean Square  Source     Status      Year  ...  Source_ISCGEM  \\\n",
      "0         -0.103839  ISCGEM  Automatic -1.915523  ...            1.0   \n",
      "1         -0.103839  ISCGEM  Automatic -1.915523  ...            1.0   \n",
      "2         -0.103839  ISCGEM  Automatic -1.915523  ...            1.0   \n",
      "3         -0.103839  ISCGEM  Automatic -1.915523  ...            1.0   \n",
      "4         -0.103839  ISCGEM  Automatic -1.915523  ...            1.0   \n",
      "\n",
      "   Source_ISCGEMSUP  Source_NC  Source_NN  Source_OFFICIAL  Source_PR  \\\n",
      "0               0.0        0.0        0.0              0.0        0.0   \n",
      "1               0.0        0.0        0.0              0.0        0.0   \n",
      "2               0.0        0.0        0.0              0.0        0.0   \n",
      "3               0.0        0.0        0.0              0.0        0.0   \n",
      "4               0.0        0.0        0.0              0.0        0.0   \n",
      "\n",
      "   Source_SE  Source_US  Source_UW  Status_Reviewed  \n",
      "0        0.0        0.0        0.0              0.0  \n",
      "1        0.0        0.0        0.0              0.0  \n",
      "2        0.0        0.0        0.0              0.0  \n",
      "3        0.0        0.0        0.0              0.0  \n",
      "4        0.0        0.0        0.0              0.0  \n",
      "\n",
      "[5 rows x 40 columns]\n",
      "Features shape: (23409, 39)\n",
      "Target shape: (23409,)\n"
     ]
    }
   ],
   "source": [
    "# Step 2: Load Dataset and Prepare Features and Target\n",
    "\n",
    "df = pd.read_csv(\"preprocessed_earthquake_data.csv\")\n",
    "\n",
    "print(\"First 5 rows:\")\n",
    "print(df.head())\n",
    "\n",
    "# Drop missing values (optional, depends on dataset)\n",
    "df = df.dropna()\n",
    "\n",
    "# Define Features (X) and Target (y)\n",
    "X = df.drop(\"Status_Reviewed\", axis=1)  \n",
    "y = df[\"Status_Reviewed\"]\n",
    "\n",
    "print(\"Features shape:\", X.shape)\n",
    "print(\"Target shape:\", y.shape)\n",
    "\n"
   ]
  },
  {
   "cell_type": "markdown",
   "id": "a3dd027c",
   "metadata": {},
   "source": [
    "Step 3: Implement Cross-Validation"
   ]
  },
  {
   "cell_type": "code",
   "execution_count": 9,
   "id": "804e5f5c",
   "metadata": {},
   "outputs": [
    {
     "name": "stdout",
     "output_type": "stream",
     "text": [
      "Encoded features shape: (23409, 39)\n",
      "Target distribution:\n",
      " Status_Reviewed\n",
      "1.0    20770\n",
      "0.0     2639\n",
      "Name: count, dtype: int64\n"
     ]
    }
   ],
   "source": [
    "from sklearn.preprocessing import LabelEncoder\n",
    "\n",
    "# Make a copy to avoid modifying original\n",
    "df_encoded = df.copy()\n",
    "\n",
    "# Encode categorical columns automatically\n",
    "label_encoders = {}\n",
    "for col in df_encoded.select_dtypes(include=['object']).columns:\n",
    "    le = LabelEncoder()\n",
    "    df_encoded[col] = le.fit_transform(df_encoded[col])\n",
    "    label_encoders[col] = le\n",
    "\n",
    "# Now define X and y (example: predict Status_Reviewed)\n",
    "X = df_encoded.drop(\"Status_Reviewed\", axis=1)\n",
    "y = df_encoded[\"Status_Reviewed\"]\n",
    "\n",
    "print(\"Encoded features shape:\", X.shape)\n",
    "print(\"Target distribution:\\n\", y.value_counts())\n"
   ]
  },
  {
   "cell_type": "code",
   "execution_count": 10,
   "id": "e3e0df6f",
   "metadata": {},
   "outputs": [
    {
     "name": "stdout",
     "output_type": "stream",
     "text": [
      "Cross-validation scores: [1.         1.         1.         1.         0.98782311]\n",
      "Mean CV Accuracy: 0.9975646229438155\n"
     ]
    }
   ],
   "source": [
    "# Step 3: Implement Cross-Validation\n",
    "\n",
    "from sklearn.model_selection import cross_val_score\n",
    "from sklearn.ensemble import RandomForestClassifier\n",
    "import numpy as np\n",
    "\n",
    "rf = RandomForestClassifier(random_state=42)\n",
    "\n",
    "cv_scores = cross_val_score(rf, X, y, cv=5)\n",
    "\n",
    "print(\"Cross-validation scores:\", cv_scores)\n",
    "print(\"Mean CV Accuracy:\", np.mean(cv_scores))\n",
    "\n"
   ]
  },
  {
   "cell_type": "markdown",
   "id": "7b7b0b5e",
   "metadata": {},
   "source": [
    "Step 4: Hyperparameter Tuning with GridSearchCV"
   ]
  },
  {
   "cell_type": "code",
   "execution_count": 11,
   "id": "5d20e148",
   "metadata": {},
   "outputs": [
    {
     "name": "stdout",
     "output_type": "stream",
     "text": [
      "Best Parameters: {'max_depth': None, 'min_samples_split': 2, 'n_estimators': 50}\n",
      "Best CV Score: 0.9976500747703483\n"
     ]
    }
   ],
   "source": [
    "# Step 4: Hyperparameter Tuning with GridSearchCV\n",
    "\n",
    "# Define parameter grid for Random Forest\n",
    "param_grid = {\n",
    "    'n_estimators': [50, 100, 200],\n",
    "    'max_depth': [None, 5, 10],\n",
    "    'min_samples_split': [2, 5, 10]\n",
    "}\n",
    "\n",
    "# GridSearchCV\n",
    "grid_search = GridSearchCV(\n",
    "    estimator=rf,\n",
    "    param_grid=param_grid,\n",
    "    cv=5,\n",
    "    scoring='accuracy',\n",
    "    n_jobs=-1\n",
    ")\n",
    "\n",
    "# Fit on the data\n",
    "grid_search.fit(X, y)\n",
    "\n",
    "print(\"Best Parameters:\", grid_search.best_params_)\n",
    "print(\"Best CV Score:\", grid_search.best_score_)\n"
   ]
  },
  {
   "cell_type": "markdown",
   "id": "49e910ac",
   "metadata": {},
   "source": [
    "Step 5: Evaluate Best Model on Full Dataset"
   ]
  },
  {
   "cell_type": "code",
   "execution_count": 12,
   "id": "5866dc2e",
   "metadata": {},
   "outputs": [
    {
     "name": "stdout",
     "output_type": "stream",
     "text": [
      "Accuracy on full dataset: 1.0\n",
      "\n",
      "Classification Report:\n",
      "               precision    recall  f1-score   support\n",
      "\n",
      "         0.0       1.00      1.00      1.00      2639\n",
      "         1.0       1.00      1.00      1.00     20770\n",
      "\n",
      "    accuracy                           1.00     23409\n",
      "   macro avg       1.00      1.00      1.00     23409\n",
      "weighted avg       1.00      1.00      1.00     23409\n",
      "\n"
     ]
    }
   ],
   "source": [
    "# Step 5: Evaluate Best Model on Full Dataset\n",
    "\n",
    "best_model = grid_search.best_estimator_\n",
    "\n",
    "# Train on the full dataset\n",
    "best_model.fit(X, y)\n",
    "\n",
    "# Predict on the same dataset (for demonstration)\n",
    "y_pred = best_model.predict(X)\n",
    "\n",
    "print(\"Accuracy on full dataset:\", accuracy_score(y, y_pred))\n",
    "print(\"\\nClassification Report:\\n\", classification_report(y, y_pred))\n"
   ]
  }
 ],
 "metadata": {
  "kernelspec": {
   "display_name": "Python 3",
   "language": "python",
   "name": "python3"
  },
  "language_info": {
   "codemirror_mode": {
    "name": "ipython",
    "version": 3
   },
   "file_extension": ".py",
   "mimetype": "text/x-python",
   "name": "python",
   "nbconvert_exporter": "python",
   "pygments_lexer": "ipython3",
   "version": "3.13.7"
  }
 },
 "nbformat": 4,
 "nbformat_minor": 5
}
